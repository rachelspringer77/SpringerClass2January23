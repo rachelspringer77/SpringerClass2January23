{
  "nbformat": 4,
  "nbformat_minor": 0,
  "metadata": {
    "colab": {
      "provenance": [],
      "include_colab_link": true
    },
    "kernelspec": {
      "name": "python3",
      "display_name": "Python 3"
    },
    "language_info": {
      "name": "python"
    }
  },
  "cells": [
    {
      "cell_type": "markdown",
      "metadata": {
        "id": "view-in-github",
        "colab_type": "text"
      },
      "source": [
        "<a href=\"https://colab.research.google.com/github/rachelspringer77/SpringerClass2January23/blob/main/Copy_of_HW01.ipynb\" target=\"_parent\"><img src=\"https://colab.research.google.com/assets/colab-badge.svg\" alt=\"Open In Colab\"/></a>"
      ]
    },
    {
      "cell_type": "markdown",
      "source": [
        "# HW 01"
      ],
      "metadata": {
        "id": "JaguTAItuC48"
      }
    },
    {
      "cell_type": "markdown",
      "source": [
        "### Q1. Write a program to input your age and print whether you are more than or less than a billion seconds old."
      ],
      "metadata": {
        "id": "8N08oInsuN8g"
      }
    },
    {
      "cell_type": "code",
      "execution_count": null,
      "metadata": {
        "id": "KlPvWPxRuCVz",
        "outputId": "5f7e397f-fc32-4f9f-b698-6d29466f3546",
        "colab": {
          "base_uri": "https://localhost:8080/"
        }
      },
      "outputs": [
        {
          "output_type": "stream",
          "name": "stdout",
          "text": [
            "Enter your age in years: 21\n",
            "You are less than a billion seconds old!\n"
          ]
        }
      ],
      "source": [
        "## Enter answer here.\n",
        "# Write a program to input your age and print whether you are more than or less than a billion seconds old\n",
        "\n",
        "age_years = int(input(\"Enter your age in years: \"))\n",
        "\n",
        "seconds_in_a_year = 365 * 24 * 60 * 60  # Days * Hours * Minutes * Seconds\n",
        "age_seconds = age_years * seconds_in_a_year\n",
        "\n",
        "billion_seconds = 1_000_000_000\n",
        "\n",
        "if age_seconds > billion_seconds:\n",
        "    print(\"You are more than a billion seconds old!\")\n",
        "else:\n",
        "    print(\"You are less than a billion seconds old!\")\n",
        "\n",
        "\n"
      ]
    },
    {
      "cell_type": "markdown",
      "source": [
        "### Q2. Create a list with 10 names. Print each name with a Good morning greeting with the name using a conditional loop.\n",
        "\n",
        "For example\n",
        "\n",
        "`name = ['Ashley', 'Brianna', 'Chetan', 'David', 'Eoin', 'Francois', 'Gemma', 'Hameed', 'Ishaan', 'Joanna']`\n",
        "\n",
        "Outputs will be 'Good morning, Ashley', 'Good morning, Brianna', and so on."
      ],
      "metadata": {
        "id": "X3IPYLTgvnDh"
      }
    },
    {
      "cell_type": "code",
      "source": [
        "## Enter answer here.\n",
        "names = ['Rachel', 'Olivia', 'Taylor', 'Emilee', 'Morgan', 'Hannah', 'Lauren', 'Jasmine', 'Nyna', 'Evan']\n",
        "\n",
        "for name in names:\n",
        "    print(\"Good morning, \" + name)\n"
      ],
      "metadata": {
        "id": "MFG2cvatvmr2",
        "outputId": "0b6ff956-ef02-4530-e870-10f666af4626",
        "colab": {
          "base_uri": "https://localhost:8080/"
        }
      },
      "execution_count": null,
      "outputs": [
        {
          "output_type": "stream",
          "name": "stdout",
          "text": [
            "Good morning, Rachel\n",
            "Good morning, Olivia\n",
            "Good morning, Taylor\n",
            "Good morning, Emilee\n",
            "Good morning, Morgan\n",
            "Good morning, Hannah\n",
            "Good morning, Lauren\n",
            "Good morning, Jasmine\n",
            "Good morning, Nyna\n",
            "Good morning, Evan\n"
          ]
        }
      ]
    },
    {
      "cell_type": "markdown",
      "source": [
        "### Q3. Create a list of 15 numbers. Print only those numbers that are divisible by 2."
      ],
      "metadata": {
        "id": "niM878Jrx1bf"
      }
    },
    {
      "cell_type": "code",
      "source": [
        "## Enter answer here.\n",
        "numbers = [1,2,3,4,5,6,7,8,9,10,11,12,13,14,15]\n",
        "\n",
        "for number in numbers:\n",
        "    if number % 2 == 0:\n",
        "        print(number)\n",
        "\n"
      ],
      "metadata": {
        "id": "m7XjkMn8uUY2",
        "outputId": "7b4c1e2b-66d7-4b11-cc19-df3c2761a7d3",
        "colab": {
          "base_uri": "https://localhost:8080/"
        }
      },
      "execution_count": null,
      "outputs": [
        {
          "output_type": "stream",
          "name": "stdout",
          "text": [
            "2\n",
            "4\n",
            "6\n",
            "8\n",
            "10\n",
            "12\n",
            "14\n"
          ]
        }
      ]
    },
    {
      "cell_type": "markdown",
      "source": [
        "### Q4. Print the squared numbers of a list containing at least 10 numbers with a mix of float, integer, and negative numbers. Use the longer method as well as list comprehension.\n",
        "\n",
        "You can either generate your own list of 10 numbers or find use a random number generator."
      ],
      "metadata": {
        "id": "u1kyA9ksy_JI"
      }
    },
    {
      "cell_type": "code",
      "source": [
        "## Enter answer here.\n",
        "\n",
        "nums = [0,-1.25,15.86,-25]\n",
        "method1_squares = []\n",
        "\n",
        "for i in nums:\n",
        "    method1_squares.append(i**2)\n",
        "\n",
        "print(method1_squares)\n",
        "\n",
        "## Now method 2\n",
        "nums = [0, -1.25, 15.86, -25, 7.5, -3, 10, -8.2, 4.4, -12]\n",
        "\n",
        "method1_squares = []\n",
        "\n",
        "for i in range(len(nums)):\n",
        "    square_value = nums[i] ** 2\n",
        "    method1_squares.append(square_value)\n",
        "\n",
        "print(\"Longest Method (Explicit for loop):\", method1_squares)"
      ],
      "metadata": {
        "colab": {
          "base_uri": "https://localhost:8080/"
        },
        "id": "UFHMdDgEuUbD",
        "outputId": "3642a539-48cd-43d9-b799-b0ae15fe101b"
      },
      "execution_count": null,
      "outputs": [
        {
          "output_type": "stream",
          "name": "stdout",
          "text": [
            "[0, 1.5625, 251.53959999999998, 625]\n",
            "Longest Method (Explicit for loop): [0, 1.5625, 251.53959999999998, 625, 56.25, 9, 100, 67.24, 19.360000000000003, 144]\n"
          ]
        }
      ]
    },
    {
      "cell_type": "markdown",
      "source": [
        "### Q5. Write a program to print a year if it is a leap year."
      ],
      "metadata": {
        "id": "0ZBlFovqA7G9"
      }
    },
    {
      "cell_type": "markdown",
      "source": [],
      "metadata": {
        "id": "OK1ctUfqA6mP"
      }
    },
    {
      "cell_type": "code",
      "source": [
        "year = int(input())\n",
        "\n",
        "if year%4 == 0:\n",
        "    print(year, \"is a leap year\")\n",
        "else:\n",
        "    print(year, \"is not a leap year\")"
      ],
      "metadata": {
        "id": "QwfOIh36uUeM",
        "colab": {
          "base_uri": "https://localhost:8080/"
        },
        "outputId": "55c2106b-1ec2-4d49-f095-03c651a02b29"
      },
      "execution_count": null,
      "outputs": [
        {
          "output_type": "stream",
          "name": "stdout",
          "text": [
            "2021\n",
            "2021 is not a leap year\n"
          ]
        }
      ]
    },
    {
      "cell_type": "markdown",
      "source": [
        "### Q6. Use list comprensions to print all names in a list in upper case."
      ],
      "metadata": {
        "id": "_FRSvLlgArOJ"
      }
    },
    {
      "cell_type": "code",
      "source": [
        "names = ['Rachel', 'Olivia', 'Anna', 'Evan', 'Jack', 'Emilee', 'Morgan', 'Elise', 'Hannah', 'Lauren']\n",
        "\n",
        "upper_names = [name.upper() for name in names]\n",
        "\n",
        "print(upper_names)"
      ],
      "metadata": {
        "id": "CwPIZcFQuUhD",
        "outputId": "13e0a619-4d65-4634-ee20-ef58d63a7b5f",
        "colab": {
          "base_uri": "https://localhost:8080/"
        }
      },
      "execution_count": null,
      "outputs": [
        {
          "output_type": "stream",
          "name": "stdout",
          "text": [
            "['RACHEL', 'OLIVIA', 'ANNA', 'EVAN', 'JACK', 'EMILEE', 'MORGAN', 'ELISE', 'HANNAH', 'LAUREN']\n"
          ]
        }
      ]
    },
    {
      "cell_type": "markdown",
      "source": [
        "### Q7. Question on NUMPY arrays:\n",
        "\n",
        "a. Create a numpy array called `original` with 100 random numbers. What is the largest number, smallest number, max, min, median, and standard deviation of your array? Print them.\n",
        "\n",
        "HINT: use `np.random.uniform()`. Check online for the correct syntax. `np.random.rand(100)` will give you 100 random numbers of uniform distribution with mean 0 and standard deviation of 1, while we want a mix of larger numbers/integers.\n",
        "\n",
        "b. Now create an array called `orig_sqrt` which contains the square roots of the numbers in the original array.\n",
        "\n",
        "### Q8.  Converting 1D arrays into 2D arrays.\n",
        "\n",
        "a. Convert your original array of 100 random numbers into a 2-dimensional array called `mat_array` with 20 rows and 5 columns. Print this array.\n",
        "\n",
        "b. What is the mean of every column in `mat_array`?\n",
        "\n",
        "c. What is the sum of every row? Create a list of 20 elements that contains the sum of every row in `mat_array`.\n",
        "\n",
        "d. Create the transpose of `mat_array` and call it `transpose_array`. What are the dimensions of this array now? Again, find the mean of each column and the sum of each row.\n",
        "\n",
        "### Q9. Array slicing:\n",
        "\n",
        "a. create a new array which contains the 3rd-10th rows and all columns of `mat_array`. Print.\n",
        "\n",
        "b. Print a new array which contains the the last 5 rows and the last 2 columns of `mat_array`. What is the dimension of this array?\n",
        "\n",
        "c. Print a new array which contains the first 3 rows and last 10 columns of `transpose_array`."
      ],
      "metadata": {
        "id": "ulp3oxOZHt5r"
      }
    },
    {
      "cell_type": "code",
      "source": [
        "# Write your answer here. Feel free to break your answer into different blocks of code rather than using just this one cell. Label your answer neatly.\n",
        "import numpy as np\n",
        "\n"
      ],
      "metadata": {
        "id": "M6EBbfr7Iaas"
      },
      "execution_count": null,
      "outputs": []
    },
    {
      "cell_type": "code",
      "source": [
        "import numpy as np\n",
        "\n",
        "original = np.random.uniform(10, 100, 100)\n",
        "\n",
        "largest = np.max(original)\n",
        "smallest = np.min(original)\n",
        "max_value = original.max()\n",
        "min_value = original.min()\n",
        "median_value = np.median(original)\n",
        "std_dev = np.std(original)\n",
        "\n",
        "print(f\"Largest number: {largest}\")\n",
        "print(f\"Smallest number: {smallest}\")\n",
        "print(f\"Max: {max_value}\")\n",
        "print(f\"Min: {min_value}\")\n",
        "print(f\"Median: {median_value}\")\n",
        "print(f\"Standard Deviation: {std_dev}\")\n",
        "\n",
        "orig_sqrt = np.sqrt(original)\n",
        "\n",
        "print(f\"First 10 square roots: {orig_sqrt[:10]}\")"
      ],
      "metadata": {
        "id": "lJWRxuplJ1R-",
        "outputId": "81e8d246-5721-442d-c1bf-8183c3233daa",
        "colab": {
          "base_uri": "https://localhost:8080/"
        }
      },
      "execution_count": null,
      "outputs": [
        {
          "output_type": "stream",
          "name": "stdout",
          "text": [
            "Largest number: 99.65528390261773\n",
            "Smallest number: 11.713871483911447\n",
            "Max: 99.65528390261773\n",
            "Min: 11.713871483911447\n",
            "Median: 59.65019628608606\n",
            "Standard Deviation: 24.990038167131296\n",
            "First 10 square roots: [9.16484574 6.99905963 8.56833198 6.40970276 7.39463033 9.74262516\n",
            " 4.12509478 4.81803584 3.8150502  7.14904548]\n"
          ]
        }
      ]
    },
    {
      "cell_type": "code",
      "source": [
        "mat_array = original.reshape(20, 5)\n",
        "print(\"2D Array (20x5):\")\n",
        "print(mat_array)\n",
        "\n",
        "column_means = np.mean(mat_array, axis=0)\n",
        "print(f\"Mean of each column: {column_means}\")\n",
        "\n",
        "row_sums = np.sum(mat_array, axis=1)\n",
        "print(f\"Sum of each row: {row_sums}\")\n",
        "\n",
        "transpose_array = mat_array.T\n",
        "print(f\"New shape of transpose_array: {transpose_array.shape}\")\n",
        "\n",
        "transposed_col_means = np.mean(transpose_array, axis=0)\n",
        "print(f\"Mean of each column in transposed array: {transposed_col_means}\")\n",
        "\n",
        "transposed_row_sums = np.sum(transpose_array, axis=1)\n",
        "print(f\"Sum of each row in transposed array: {transposed_row_sums}\")"
      ],
      "metadata": {
        "id": "FDYDgwc1Lyy1",
        "outputId": "9c9ccb21-095e-4778-e369-2463351e88f0",
        "colab": {
          "base_uri": "https://localhost:8080/"
        }
      },
      "execution_count": null,
      "outputs": [
        {
          "output_type": "stream",
          "name": "stdout",
          "text": [
            "2D Array (20x5):\n",
            "[[83.9943974  48.98683576 73.41631285 41.08428943 54.6805577 ]\n",
            " [94.918745   17.01640692 23.21346931 14.55460805 51.10885131]\n",
            " [36.62869432 17.8629159  21.81704508 59.19670788 42.04922262]\n",
            " [80.8393769  99.6552839  31.06076909 54.7611899  99.38841546]\n",
            " [55.3947703  79.33270842 76.92286921 65.90038599 24.24122726]\n",
            " [50.57505499 83.63748127 67.30201525 38.19271568 81.47786642]\n",
            " [72.14215112 62.72007688 82.60084253 31.91422182 48.03864461]\n",
            " [79.13651314 73.0363263  71.33649216 39.31777782 82.73006209]\n",
            " [91.49509869 78.58275212 17.3342426  25.8658917  60.10368469]\n",
            " [32.4283351  63.09467782 11.71387148 12.93946147 46.9324693 ]\n",
            " [45.37249892 23.38436196 58.08347761 42.81154627 38.98930008]\n",
            " [76.38122172 47.88188035 16.23115764 15.63045624 19.89496578]\n",
            " [64.23260626 90.24479894 51.7802212  70.3489966  48.54927891]\n",
            " [35.43500075 63.14744802 31.32020659 84.75530276 69.08879513]\n",
            " [70.05018471 19.54927035 83.53654869 82.68125836 88.63361394]\n",
            " [70.89693644 36.54853216 80.5408001  60.13452517 89.14975295]\n",
            " [97.40694138 98.69811035 80.86247918 89.29507022 29.20740337]\n",
            " [40.30785443 96.17040385 73.72695879 67.41521751 67.55885294]\n",
            " [41.53790752 97.96746382 55.4364098  79.49435082 48.40813614]\n",
            " [71.57961577 91.95012796 55.64482765 25.46029869 27.62764301]]\n",
            "Mean of each column: [64.53769524 64.47339315 53.19405084 50.08771362 55.89293719]\n",
            "Sum of each row: [302.16239314 200.81208059 177.5545858  365.70503526 301.79196117\n",
            " 321.18513361 297.41593695 345.55717151 273.38166981 167.10881516\n",
            " 208.64118484 176.01968174 325.15590191 283.74675325 344.45087605\n",
            " 337.27054683 395.47000449 345.17928751 322.8442681  272.26251308]\n",
            "New shape of transpose_array: (5, 20)\n",
            "Mean of each column in transposed array: [60.43247863 40.16241612 35.51091716 73.14100705 60.35839223 64.23702672\n",
            " 59.48318739 69.1114343  54.67633396 33.42176303 41.72823697 35.20393635\n",
            " 65.03118038 56.74935065 68.89017521 67.45410937 79.0940009  69.0358575\n",
            " 64.56885362 54.45250262]\n",
            "Sum of each row in transposed array: [1290.75390488 1289.46786304 1063.88101681 1001.75427237 1117.8587437 ]\n"
          ]
        }
      ]
    },
    {
      "cell_type": "code",
      "source": [
        "subset_3_to_10 = mat_array[2:10, :]\n",
        "print(\"Subset (3rd to 10th rows, all columns):\")\n",
        "print(subset_3_to_10)\n",
        "\n",
        "subset_last_5_rows_2_cols = mat_array[-5:, -2:]\n",
        "print(\"Subset (Last 5 rows, Last 2 columns):\")\n",
        "print(subset_last_5_rows_2_cols)\n",
        "print(f\"Dimensions: {subset_last_5_rows_2_cols.shape}\")\n",
        "\n",
        "subset_first_3_last_10 = transpose_array[:3, -10:]\n",
        "print(\"Subset (First 3 rows, Last 10 columns of transposed array):\")\n",
        "print(subset_first_3_last_10)"
      ],
      "metadata": {
        "id": "vyV9N3jpLyqP",
        "outputId": "4481b118-e3e9-4ae1-ad97-d8d48d4ef9a6",
        "colab": {
          "base_uri": "https://localhost:8080/"
        }
      },
      "execution_count": null,
      "outputs": [
        {
          "output_type": "stream",
          "name": "stdout",
          "text": [
            "Subset (3rd to 10th rows, all columns):\n",
            "[[36.62869432 17.8629159  21.81704508 59.19670788 42.04922262]\n",
            " [80.8393769  99.6552839  31.06076909 54.7611899  99.38841546]\n",
            " [55.3947703  79.33270842 76.92286921 65.90038599 24.24122726]\n",
            " [50.57505499 83.63748127 67.30201525 38.19271568 81.47786642]\n",
            " [72.14215112 62.72007688 82.60084253 31.91422182 48.03864461]\n",
            " [79.13651314 73.0363263  71.33649216 39.31777782 82.73006209]\n",
            " [91.49509869 78.58275212 17.3342426  25.8658917  60.10368469]\n",
            " [32.4283351  63.09467782 11.71387148 12.93946147 46.9324693 ]]\n",
            "Subset (Last 5 rows, Last 2 columns):\n",
            "[[60.13452517 89.14975295]\n",
            " [89.29507022 29.20740337]\n",
            " [67.41521751 67.55885294]\n",
            " [79.49435082 48.40813614]\n",
            " [25.46029869 27.62764301]]\n",
            "Dimensions: (5, 2)\n",
            "Subset (First 3 rows, Last 10 columns of transposed array):\n",
            "[[45.37249892 76.38122172 64.23260626 35.43500075 70.05018471 70.89693644\n",
            "  97.40694138 40.30785443 41.53790752 71.57961577]\n",
            " [23.38436196 47.88188035 90.24479894 63.14744802 19.54927035 36.54853216\n",
            "  98.69811035 96.17040385 97.96746382 91.95012796]\n",
            " [58.08347761 16.23115764 51.7802212  31.32020659 83.53654869 80.5408001\n",
            "  80.86247918 73.72695879 55.4364098  55.64482765]]\n"
          ]
        }
      ]
    },
    {
      "cell_type": "code",
      "source": [],
      "metadata": {
        "id": "at-4INjLLyei"
      },
      "execution_count": null,
      "outputs": []
    },
    {
      "cell_type": "markdown",
      "source": [
        "### Q10. Assume you are inviting 15 friends to your party. You guest list has the following dietary preference.\n",
        "\n",
        "`diet = ['vegetarian', 'pescetarian', 'vegetarian', 'omnivore', 'pescetarian', 'keto', 'keto', 'vegan', 'omnivore', 'omnivore', 'vegan', 'omnivore', 'keto, 'vegetarian', 'vegan']`\n",
        "\n",
        "Their ages are as follows:\n",
        "\n",
        "`age = [21, 20, 19, 25, 27, 18, 23, 25, 19, 22, 20, 20, 23, 21, 24]`\n",
        "\n",
        "Create a list called `menu` which will contain 'veg. fried rice with whiskey' for vegans and vegetarians aged 21 and above,  'veg. fried rice with mocktail' for vegans and vegetarians aged below 21. Follow the same logic and assign fish and white wine to pescetarians of legal age (and fish with mocktail to those below 21). Keto and omnivore guests above 21 will have 'steak and red wine'. Complete the series with the appropriate drink for underage guests."
      ],
      "metadata": {
        "id": "cIhCARNRLzKy"
      }
    },
    {
      "cell_type": "code",
      "source": [
        "# Write your answer here.\n",
        "import numpy as np\n",
        "\n",
        "diet = ['vegetarian', 'pescetarian', 'vegetarian', 'omnivore', 'pescetarian', 'keto', 'keto', 'vegan',\n",
        "        'omnivore', 'omnivore', 'vegan', 'omnivore', 'keto', 'vegetarian', 'vegan']\n",
        "\n",
        "age = [21, 20, 19, 25, 27, 18, 23, 25, 19, 22, 20, 20, 23, 21, 24]\n",
        "\n",
        "menu = []\n",
        "\n",
        "for i in range(len(diet)):\n",
        "    if diet[i] in ['vegetarian', 'vegan']:\n",
        "        if age[i] >= 21:\n",
        "            menu.append('veg. fried rice with whiskey')\n",
        "        else:\n",
        "            menu.append('veg. fried rice with mocktail')\n",
        "    elif diet[i] == 'pescetarian':\n",
        "        if age[i] >= 21:\n",
        "            menu.append('fish and white wine')\n",
        "        else:\n",
        "            menu.append('fish and mocktail')\n",
        "    elif diet[i] in ['keto', 'omnivore']:\n",
        "        if age[i] >= 21:\n",
        "            menu.append('steak and red wine')\n",
        "        else:\n",
        "            menu.append('steak and mocktail')\n",
        "\n",
        "for guest, meal in enumerate(menu, start=1):\n",
        "    print(f\"Guest {guest}: {meal}\")\n",
        "\n"
      ],
      "metadata": {
        "id": "P7Xuiz6JOR5_",
        "outputId": "70ce4ad4-8453-4ff4-a5bf-53e01e7c0149",
        "colab": {
          "base_uri": "https://localhost:8080/"
        }
      },
      "execution_count": null,
      "outputs": [
        {
          "output_type": "stream",
          "name": "stdout",
          "text": [
            "Guest 1: veg. fried rice with whiskey\n",
            "Guest 2: fish and mocktail\n",
            "Guest 3: veg. fried rice with mocktail\n",
            "Guest 4: steak and red wine\n",
            "Guest 5: fish and white wine\n",
            "Guest 6: steak and mocktail\n",
            "Guest 7: steak and red wine\n",
            "Guest 8: veg. fried rice with whiskey\n",
            "Guest 9: steak and mocktail\n",
            "Guest 10: steak and red wine\n",
            "Guest 11: veg. fried rice with mocktail\n",
            "Guest 12: steak and mocktail\n",
            "Guest 13: steak and red wine\n",
            "Guest 14: veg. fried rice with whiskey\n",
            "Guest 15: veg. fried rice with whiskey\n"
          ]
        }
      ]
    }
  ]
}