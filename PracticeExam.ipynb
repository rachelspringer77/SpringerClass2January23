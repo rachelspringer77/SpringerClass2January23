{
  "cells": [
    {
      "cell_type": "markdown",
      "metadata": {
        "id": "view-in-github",
        "colab_type": "text"
      },
      "source": [
        "<a href=\"https://colab.research.google.com/github/rachelspringer77/SpringerPython451Final/blob/main/PracticeExam.ipynb\" target=\"_parent\"><img src=\"https://colab.research.google.com/assets/colab-badge.svg\" alt=\"Open In Colab\"/></a>"
      ]
    },
    {
      "cell_type": "markdown",
      "metadata": {
        "id": "RqVNBT3sFKQm"
      },
      "source": [
        "# Exercise: GroupBy\n",
        "Countries of the world"
      ]
    },
    {
      "cell_type": "markdown",
      "metadata": {
        "id": "luQ_EieQFKQq"
      },
      "source": [
        "### Introduction:\n",
        "\n",
        "Thanks to: https://github.com/HiraMariam for the dataset and materials.\n",
        "\n",
        "Import the necessary libraries"
      ]
    },
    {
      "cell_type": "code",
      "execution_count": 1,
      "metadata": {
        "id": "FBkM6C29FKQr"
      },
      "outputs": [],
      "source": [
        "import numpy as np\n",
        "import pandas as pd\n",
        "import seaborn as sns\n",
        "import matplotlib.pyplot as plt"
      ]
    },
    {
      "cell_type": "markdown",
      "metadata": {
        "id": "VwbKOztMFKQr"
      },
      "source": [
        "### Step 2. Import the dataset from this [address](https://github.com/HiraMariam/countries-data-for-pandas/blob/master/countries.csv), and assign it to a variable called countries."
      ]
    },
    {
      "cell_type": "code",
      "execution_count": 3,
      "metadata": {
        "colab": {
          "base_uri": "https://localhost:8080/",
          "height": 554
        },
        "id": "FrxYymDeFKQs",
        "outputId": "e562fef5-3292-4d7f-b65a-c5b97db520db"
      },
      "outputs": [
        {
          "output_type": "execute_result",
          "data": {
            "text/plain": [
              "              Country                               Region  Population  \\\n",
              "0        Afghanistan         ASIA (EX. NEAR EAST)             31056997   \n",
              "1            Albania   EASTERN EUROPE                          3581655   \n",
              "2            Algeria   NORTHERN AFRICA                        32930091   \n",
              "3     American Samoa   OCEANIA                                   57794   \n",
              "4            Andorra   WESTERN EUROPE                            71201   \n",
              "5             Angola   SUB-SAHARAN AFRICA                     12127071   \n",
              "6           Anguilla               LATIN AMER. & CARIB           13477   \n",
              "7  Antigua & Barbuda               LATIN AMER. & CARIB           69108   \n",
              "8          Argentina               LATIN AMER. & CARIB        39921833   \n",
              "9            Armenia                  C.W. OF IND. STATES      2976372   \n",
              "\n",
              "   Area (sq. mi.) Infant mortality (per 1000 births)  GDP ($ per capita)  \\\n",
              "0          647500                             163,07               700.0   \n",
              "1           28748                              21,52              4500.0   \n",
              "2         2381740                                 31              6000.0   \n",
              "3             199                               9,27              8000.0   \n",
              "4             468                               4,05             19000.0   \n",
              "5         1246700                             191,19              1900.0   \n",
              "6             102                              21,03              8600.0   \n",
              "7             443                              19,46             11000.0   \n",
              "8         2766890                              15,18             11200.0   \n",
              "9           29800                              23,28              3500.0   \n",
              "\n",
              "  Literacy (%) Crops (%) Climate Birthrate Deathrate Agriculture  \n",
              "0         36,0      0,22       1      46,6     20,34        0,38  \n",
              "1         86,5      4,42       3     15,11      5,22       0,232  \n",
              "2         70,0      0,25       1     17,14      4,61       0,101  \n",
              "3         97,0        15       2     22,46      3,27         NaN  \n",
              "4        100,0         0       3      8,71      6,25         NaN  \n",
              "5         42,0      0,24     NaN     45,11      24,2       0,096  \n",
              "6         95,0         0       2     14,17      5,34        0,04  \n",
              "7         89,0      4,55       2     16,93      5,37       0,038  \n",
              "8         97,1      0,48       3     16,73      7,55       0,095  \n",
              "9         98,6       2,3       4     12,07      8,23       0,239  "
            ],
            "text/html": [
              "\n",
              "  <div id=\"df-346ed9f2-0787-4bb5-88f3-1cb4147b3d3d\" class=\"colab-df-container\">\n",
              "    <div>\n",
              "<style scoped>\n",
              "    .dataframe tbody tr th:only-of-type {\n",
              "        vertical-align: middle;\n",
              "    }\n",
              "\n",
              "    .dataframe tbody tr th {\n",
              "        vertical-align: top;\n",
              "    }\n",
              "\n",
              "    .dataframe thead th {\n",
              "        text-align: right;\n",
              "    }\n",
              "</style>\n",
              "<table border=\"1\" class=\"dataframe\">\n",
              "  <thead>\n",
              "    <tr style=\"text-align: right;\">\n",
              "      <th></th>\n",
              "      <th>Country</th>\n",
              "      <th>Region</th>\n",
              "      <th>Population</th>\n",
              "      <th>Area (sq. mi.)</th>\n",
              "      <th>Infant mortality (per 1000 births)</th>\n",
              "      <th>GDP ($ per capita)</th>\n",
              "      <th>Literacy (%)</th>\n",
              "      <th>Crops (%)</th>\n",
              "      <th>Climate</th>\n",
              "      <th>Birthrate</th>\n",
              "      <th>Deathrate</th>\n",
              "      <th>Agriculture</th>\n",
              "    </tr>\n",
              "  </thead>\n",
              "  <tbody>\n",
              "    <tr>\n",
              "      <th>0</th>\n",
              "      <td>Afghanistan</td>\n",
              "      <td>ASIA (EX. NEAR EAST)</td>\n",
              "      <td>31056997</td>\n",
              "      <td>647500</td>\n",
              "      <td>163,07</td>\n",
              "      <td>700.0</td>\n",
              "      <td>36,0</td>\n",
              "      <td>0,22</td>\n",
              "      <td>1</td>\n",
              "      <td>46,6</td>\n",
              "      <td>20,34</td>\n",
              "      <td>0,38</td>\n",
              "    </tr>\n",
              "    <tr>\n",
              "      <th>1</th>\n",
              "      <td>Albania</td>\n",
              "      <td>EASTERN EUROPE</td>\n",
              "      <td>3581655</td>\n",
              "      <td>28748</td>\n",
              "      <td>21,52</td>\n",
              "      <td>4500.0</td>\n",
              "      <td>86,5</td>\n",
              "      <td>4,42</td>\n",
              "      <td>3</td>\n",
              "      <td>15,11</td>\n",
              "      <td>5,22</td>\n",
              "      <td>0,232</td>\n",
              "    </tr>\n",
              "    <tr>\n",
              "      <th>2</th>\n",
              "      <td>Algeria</td>\n",
              "      <td>NORTHERN AFRICA</td>\n",
              "      <td>32930091</td>\n",
              "      <td>2381740</td>\n",
              "      <td>31</td>\n",
              "      <td>6000.0</td>\n",
              "      <td>70,0</td>\n",
              "      <td>0,25</td>\n",
              "      <td>1</td>\n",
              "      <td>17,14</td>\n",
              "      <td>4,61</td>\n",
              "      <td>0,101</td>\n",
              "    </tr>\n",
              "    <tr>\n",
              "      <th>3</th>\n",
              "      <td>American Samoa</td>\n",
              "      <td>OCEANIA</td>\n",
              "      <td>57794</td>\n",
              "      <td>199</td>\n",
              "      <td>9,27</td>\n",
              "      <td>8000.0</td>\n",
              "      <td>97,0</td>\n",
              "      <td>15</td>\n",
              "      <td>2</td>\n",
              "      <td>22,46</td>\n",
              "      <td>3,27</td>\n",
              "      <td>NaN</td>\n",
              "    </tr>\n",
              "    <tr>\n",
              "      <th>4</th>\n",
              "      <td>Andorra</td>\n",
              "      <td>WESTERN EUROPE</td>\n",
              "      <td>71201</td>\n",
              "      <td>468</td>\n",
              "      <td>4,05</td>\n",
              "      <td>19000.0</td>\n",
              "      <td>100,0</td>\n",
              "      <td>0</td>\n",
              "      <td>3</td>\n",
              "      <td>8,71</td>\n",
              "      <td>6,25</td>\n",
              "      <td>NaN</td>\n",
              "    </tr>\n",
              "    <tr>\n",
              "      <th>5</th>\n",
              "      <td>Angola</td>\n",
              "      <td>SUB-SAHARAN AFRICA</td>\n",
              "      <td>12127071</td>\n",
              "      <td>1246700</td>\n",
              "      <td>191,19</td>\n",
              "      <td>1900.0</td>\n",
              "      <td>42,0</td>\n",
              "      <td>0,24</td>\n",
              "      <td>NaN</td>\n",
              "      <td>45,11</td>\n",
              "      <td>24,2</td>\n",
              "      <td>0,096</td>\n",
              "    </tr>\n",
              "    <tr>\n",
              "      <th>6</th>\n",
              "      <td>Anguilla</td>\n",
              "      <td>LATIN AMER. &amp; CARIB</td>\n",
              "      <td>13477</td>\n",
              "      <td>102</td>\n",
              "      <td>21,03</td>\n",
              "      <td>8600.0</td>\n",
              "      <td>95,0</td>\n",
              "      <td>0</td>\n",
              "      <td>2</td>\n",
              "      <td>14,17</td>\n",
              "      <td>5,34</td>\n",
              "      <td>0,04</td>\n",
              "    </tr>\n",
              "    <tr>\n",
              "      <th>7</th>\n",
              "      <td>Antigua &amp; Barbuda</td>\n",
              "      <td>LATIN AMER. &amp; CARIB</td>\n",
              "      <td>69108</td>\n",
              "      <td>443</td>\n",
              "      <td>19,46</td>\n",
              "      <td>11000.0</td>\n",
              "      <td>89,0</td>\n",
              "      <td>4,55</td>\n",
              "      <td>2</td>\n",
              "      <td>16,93</td>\n",
              "      <td>5,37</td>\n",
              "      <td>0,038</td>\n",
              "    </tr>\n",
              "    <tr>\n",
              "      <th>8</th>\n",
              "      <td>Argentina</td>\n",
              "      <td>LATIN AMER. &amp; CARIB</td>\n",
              "      <td>39921833</td>\n",
              "      <td>2766890</td>\n",
              "      <td>15,18</td>\n",
              "      <td>11200.0</td>\n",
              "      <td>97,1</td>\n",
              "      <td>0,48</td>\n",
              "      <td>3</td>\n",
              "      <td>16,73</td>\n",
              "      <td>7,55</td>\n",
              "      <td>0,095</td>\n",
              "    </tr>\n",
              "    <tr>\n",
              "      <th>9</th>\n",
              "      <td>Armenia</td>\n",
              "      <td>C.W. OF IND. STATES</td>\n",
              "      <td>2976372</td>\n",
              "      <td>29800</td>\n",
              "      <td>23,28</td>\n",
              "      <td>3500.0</td>\n",
              "      <td>98,6</td>\n",
              "      <td>2,3</td>\n",
              "      <td>4</td>\n",
              "      <td>12,07</td>\n",
              "      <td>8,23</td>\n",
              "      <td>0,239</td>\n",
              "    </tr>\n",
              "  </tbody>\n",
              "</table>\n",
              "</div>\n",
              "    <div class=\"colab-df-buttons\">\n",
              "\n",
              "  <div class=\"colab-df-container\">\n",
              "    <button class=\"colab-df-convert\" onclick=\"convertToInteractive('df-346ed9f2-0787-4bb5-88f3-1cb4147b3d3d')\"\n",
              "            title=\"Convert this dataframe to an interactive table.\"\n",
              "            style=\"display:none;\">\n",
              "\n",
              "  <svg xmlns=\"http://www.w3.org/2000/svg\" height=\"24px\" viewBox=\"0 -960 960 960\">\n",
              "    <path d=\"M120-120v-720h720v720H120Zm60-500h600v-160H180v160Zm220 220h160v-160H400v160Zm0 220h160v-160H400v160ZM180-400h160v-160H180v160Zm440 0h160v-160H620v160ZM180-180h160v-160H180v160Zm440 0h160v-160H620v160Z\"/>\n",
              "  </svg>\n",
              "    </button>\n",
              "\n",
              "  <style>\n",
              "    .colab-df-container {\n",
              "      display:flex;\n",
              "      gap: 12px;\n",
              "    }\n",
              "\n",
              "    .colab-df-convert {\n",
              "      background-color: #E8F0FE;\n",
              "      border: none;\n",
              "      border-radius: 50%;\n",
              "      cursor: pointer;\n",
              "      display: none;\n",
              "      fill: #1967D2;\n",
              "      height: 32px;\n",
              "      padding: 0 0 0 0;\n",
              "      width: 32px;\n",
              "    }\n",
              "\n",
              "    .colab-df-convert:hover {\n",
              "      background-color: #E2EBFA;\n",
              "      box-shadow: 0px 1px 2px rgba(60, 64, 67, 0.3), 0px 1px 3px 1px rgba(60, 64, 67, 0.15);\n",
              "      fill: #174EA6;\n",
              "    }\n",
              "\n",
              "    .colab-df-buttons div {\n",
              "      margin-bottom: 4px;\n",
              "    }\n",
              "\n",
              "    [theme=dark] .colab-df-convert {\n",
              "      background-color: #3B4455;\n",
              "      fill: #D2E3FC;\n",
              "    }\n",
              "\n",
              "    [theme=dark] .colab-df-convert:hover {\n",
              "      background-color: #434B5C;\n",
              "      box-shadow: 0px 1px 3px 1px rgba(0, 0, 0, 0.15);\n",
              "      filter: drop-shadow(0px 1px 2px rgba(0, 0, 0, 0.3));\n",
              "      fill: #FFFFFF;\n",
              "    }\n",
              "  </style>\n",
              "\n",
              "    <script>\n",
              "      const buttonEl =\n",
              "        document.querySelector('#df-346ed9f2-0787-4bb5-88f3-1cb4147b3d3d button.colab-df-convert');\n",
              "      buttonEl.style.display =\n",
              "        google.colab.kernel.accessAllowed ? 'block' : 'none';\n",
              "\n",
              "      async function convertToInteractive(key) {\n",
              "        const element = document.querySelector('#df-346ed9f2-0787-4bb5-88f3-1cb4147b3d3d');\n",
              "        const dataTable =\n",
              "          await google.colab.kernel.invokeFunction('convertToInteractive',\n",
              "                                                    [key], {});\n",
              "        if (!dataTable) return;\n",
              "\n",
              "        const docLinkHtml = 'Like what you see? Visit the ' +\n",
              "          '<a target=\"_blank\" href=https://colab.research.google.com/notebooks/data_table.ipynb>data table notebook</a>'\n",
              "          + ' to learn more about interactive tables.';\n",
              "        element.innerHTML = '';\n",
              "        dataTable['output_type'] = 'display_data';\n",
              "        await google.colab.output.renderOutput(dataTable, element);\n",
              "        const docLink = document.createElement('div');\n",
              "        docLink.innerHTML = docLinkHtml;\n",
              "        element.appendChild(docLink);\n",
              "      }\n",
              "    </script>\n",
              "  </div>\n",
              "\n",
              "\n",
              "<div id=\"df-a449a212-c0c9-4543-964b-7bb8d5f0da1a\">\n",
              "  <button class=\"colab-df-quickchart\" onclick=\"quickchart('df-a449a212-c0c9-4543-964b-7bb8d5f0da1a')\"\n",
              "            title=\"Suggest charts\"\n",
              "            style=\"display:none;\">\n",
              "\n",
              "<svg xmlns=\"http://www.w3.org/2000/svg\" height=\"24px\"viewBox=\"0 0 24 24\"\n",
              "     width=\"24px\">\n",
              "    <g>\n",
              "        <path d=\"M19 3H5c-1.1 0-2 .9-2 2v14c0 1.1.9 2 2 2h14c1.1 0 2-.9 2-2V5c0-1.1-.9-2-2-2zM9 17H7v-7h2v7zm4 0h-2V7h2v10zm4 0h-2v-4h2v4z\"/>\n",
              "    </g>\n",
              "</svg>\n",
              "  </button>\n",
              "\n",
              "<style>\n",
              "  .colab-df-quickchart {\n",
              "      --bg-color: #E8F0FE;\n",
              "      --fill-color: #1967D2;\n",
              "      --hover-bg-color: #E2EBFA;\n",
              "      --hover-fill-color: #174EA6;\n",
              "      --disabled-fill-color: #AAA;\n",
              "      --disabled-bg-color: #DDD;\n",
              "  }\n",
              "\n",
              "  [theme=dark] .colab-df-quickchart {\n",
              "      --bg-color: #3B4455;\n",
              "      --fill-color: #D2E3FC;\n",
              "      --hover-bg-color: #434B5C;\n",
              "      --hover-fill-color: #FFFFFF;\n",
              "      --disabled-bg-color: #3B4455;\n",
              "      --disabled-fill-color: #666;\n",
              "  }\n",
              "\n",
              "  .colab-df-quickchart {\n",
              "    background-color: var(--bg-color);\n",
              "    border: none;\n",
              "    border-radius: 50%;\n",
              "    cursor: pointer;\n",
              "    display: none;\n",
              "    fill: var(--fill-color);\n",
              "    height: 32px;\n",
              "    padding: 0;\n",
              "    width: 32px;\n",
              "  }\n",
              "\n",
              "  .colab-df-quickchart:hover {\n",
              "    background-color: var(--hover-bg-color);\n",
              "    box-shadow: 0 1px 2px rgba(60, 64, 67, 0.3), 0 1px 3px 1px rgba(60, 64, 67, 0.15);\n",
              "    fill: var(--button-hover-fill-color);\n",
              "  }\n",
              "\n",
              "  .colab-df-quickchart-complete:disabled,\n",
              "  .colab-df-quickchart-complete:disabled:hover {\n",
              "    background-color: var(--disabled-bg-color);\n",
              "    fill: var(--disabled-fill-color);\n",
              "    box-shadow: none;\n",
              "  }\n",
              "\n",
              "  .colab-df-spinner {\n",
              "    border: 2px solid var(--fill-color);\n",
              "    border-color: transparent;\n",
              "    border-bottom-color: var(--fill-color);\n",
              "    animation:\n",
              "      spin 1s steps(1) infinite;\n",
              "  }\n",
              "\n",
              "  @keyframes spin {\n",
              "    0% {\n",
              "      border-color: transparent;\n",
              "      border-bottom-color: var(--fill-color);\n",
              "      border-left-color: var(--fill-color);\n",
              "    }\n",
              "    20% {\n",
              "      border-color: transparent;\n",
              "      border-left-color: var(--fill-color);\n",
              "      border-top-color: var(--fill-color);\n",
              "    }\n",
              "    30% {\n",
              "      border-color: transparent;\n",
              "      border-left-color: var(--fill-color);\n",
              "      border-top-color: var(--fill-color);\n",
              "      border-right-color: var(--fill-color);\n",
              "    }\n",
              "    40% {\n",
              "      border-color: transparent;\n",
              "      border-right-color: var(--fill-color);\n",
              "      border-top-color: var(--fill-color);\n",
              "    }\n",
              "    60% {\n",
              "      border-color: transparent;\n",
              "      border-right-color: var(--fill-color);\n",
              "    }\n",
              "    80% {\n",
              "      border-color: transparent;\n",
              "      border-right-color: var(--fill-color);\n",
              "      border-bottom-color: var(--fill-color);\n",
              "    }\n",
              "    90% {\n",
              "      border-color: transparent;\n",
              "      border-bottom-color: var(--fill-color);\n",
              "    }\n",
              "  }\n",
              "</style>\n",
              "\n",
              "  <script>\n",
              "    async function quickchart(key) {\n",
              "      const quickchartButtonEl =\n",
              "        document.querySelector('#' + key + ' button');\n",
              "      quickchartButtonEl.disabled = true;  // To prevent multiple clicks.\n",
              "      quickchartButtonEl.classList.add('colab-df-spinner');\n",
              "      try {\n",
              "        const charts = await google.colab.kernel.invokeFunction(\n",
              "            'suggestCharts', [key], {});\n",
              "      } catch (error) {\n",
              "        console.error('Error during call to suggestCharts:', error);\n",
              "      }\n",
              "      quickchartButtonEl.classList.remove('colab-df-spinner');\n",
              "      quickchartButtonEl.classList.add('colab-df-quickchart-complete');\n",
              "    }\n",
              "    (() => {\n",
              "      let quickchartButtonEl =\n",
              "        document.querySelector('#df-a449a212-c0c9-4543-964b-7bb8d5f0da1a button');\n",
              "      quickchartButtonEl.style.display =\n",
              "        google.colab.kernel.accessAllowed ? 'block' : 'none';\n",
              "    })();\n",
              "  </script>\n",
              "</div>\n",
              "\n",
              "    </div>\n",
              "  </div>\n"
            ],
            "application/vnd.google.colaboratory.intrinsic+json": {
              "type": "dataframe",
              "variable_name": "countries",
              "summary": "{\n  \"name\": \"countries\",\n  \"rows\": 227,\n  \"fields\": [\n    {\n      \"column\": \"Country\",\n      \"properties\": {\n        \"dtype\": \"string\",\n        \"num_unique_values\": 227,\n        \"samples\": [\n          \"Armenia \",\n          \"Namibia \",\n          \"Bahrain \"\n        ],\n        \"semantic_type\": \"\",\n        \"description\": \"\"\n      }\n    },\n    {\n      \"column\": \"Region\",\n      \"properties\": {\n        \"dtype\": \"category\",\n        \"num_unique_values\": 11,\n        \"samples\": [\n          \"SUB-SAHARAN AFRICA                 \",\n          \"ASIA (EX. NEAR EAST)         \",\n          \"NORTHERN AMERICA                   \"\n        ],\n        \"semantic_type\": \"\",\n        \"description\": \"\"\n      }\n    },\n    {\n      \"column\": \"Population\",\n      \"properties\": {\n        \"dtype\": \"number\",\n        \"std\": 117891326,\n        \"min\": 7026,\n        \"max\": 1313973713,\n        \"num_unique_values\": 227,\n        \"samples\": [\n          2976372,\n          2044147,\n          698585\n        ],\n        \"semantic_type\": \"\",\n        \"description\": \"\"\n      }\n    },\n    {\n      \"column\": \"Area (sq. mi.)\",\n      \"properties\": {\n        \"dtype\": \"number\",\n        \"std\": 1790282,\n        \"min\": 2,\n        \"max\": 17075200,\n        \"num_unique_values\": 226,\n        \"samples\": [\n          29800,\n          48845,\n          65200\n        ],\n        \"semantic_type\": \"\",\n        \"description\": \"\"\n      }\n    },\n    {\n      \"column\": \"Infant mortality (per 1000 births)\",\n      \"properties\": {\n        \"dtype\": \"string\",\n        \"num_unique_values\": 220,\n        \"samples\": [\n          \"62,4\",\n          \"121,69\",\n          \"56,29\"\n        ],\n        \"semantic_type\": \"\",\n        \"description\": \"\"\n      }\n    },\n    {\n      \"column\": \"GDP ($ per capita)\",\n      \"properties\": {\n        \"dtype\": \"number\",\n        \"std\": 10049.138513197227,\n        \"min\": 500.0,\n        \"max\": 55100.0,\n        \"num_unique_values\": 130,\n        \"samples\": [\n          5500.0,\n          19200.0,\n          4900.0\n        ],\n        \"semantic_type\": \"\",\n        \"description\": \"\"\n      }\n    },\n    {\n      \"column\": \"Literacy (%)\",\n      \"properties\": {\n        \"dtype\": \"string\",\n        \"num_unique_values\": 140,\n        \"samples\": [\n          \"64,6\",\n          \"99,4\",\n          \"47,5\"\n        ],\n        \"semantic_type\": \"\",\n        \"description\": \"\"\n      }\n    },\n    {\n      \"column\": \"Crops (%)\",\n      \"properties\": {\n        \"dtype\": \"string\",\n        \"num_unique_values\": 162,\n        \"samples\": [\n          \"2,94\",\n          \"0,33\",\n          \"0,21\"\n        ],\n        \"semantic_type\": \"\",\n        \"description\": \"\"\n      }\n    },\n    {\n      \"column\": \"Climate\",\n      \"properties\": {\n        \"dtype\": \"category\",\n        \"num_unique_values\": 6,\n        \"samples\": [\n          \"1\",\n          \"3\",\n          \"2,5\"\n        ],\n        \"semantic_type\": \"\",\n        \"description\": \"\"\n      }\n    },\n    {\n      \"column\": \"Birthrate\",\n      \"properties\": {\n        \"dtype\": \"string\",\n        \"num_unique_values\": 220,\n        \"samples\": [\n          \"15,43\",\n          \"13,76\",\n          \"22,01\"\n        ],\n        \"semantic_type\": \"\",\n        \"description\": \"\"\n      }\n    },\n    {\n      \"column\": \"Deathrate\",\n      \"properties\": {\n        \"dtype\": \"string\",\n        \"num_unique_values\": 201,\n        \"samples\": [\n          \"6,18\",\n          \"4,14\",\n          \"15,6\"\n        ],\n        \"semantic_type\": \"\",\n        \"description\": \"\"\n      }\n    },\n    {\n      \"column\": \"Agriculture\",\n      \"properties\": {\n        \"dtype\": \"string\",\n        \"num_unique_values\": 150,\n        \"samples\": [\n          \"0,134\",\n          \"0,316\",\n          \"0,035\"\n        ],\n        \"semantic_type\": \"\",\n        \"description\": \"\"\n      }\n    }\n  ]\n}"
            }
          },
          "metadata": {},
          "execution_count": 3
        }
      ],
      "source": [
        "# https://github.com/HiraMariam/countries-data-for-pandas/blob/master/countries.csv\n",
        "\n",
        "countries = pd.read_csv('https://raw.githubusercontent.com/HiraMariam/countries-data-for-pandas/master/countries.csv')\n",
        "countries.head(10)"
      ]
    },
    {
      "cell_type": "markdown",
      "source": [
        "### What is the number of observations in the dataset?"
      ],
      "metadata": {
        "id": "lqQ-wwbAKnKv"
      }
    },
    {
      "source": [
        "num_observations = countries.shape[0]\n",
        "print(f\"The number of observations in the dataset is: {num_observations}\")"
      ],
      "cell_type": "code",
      "metadata": {
        "id": "FoIU89iPH4Xy",
        "outputId": "98bf2134-b329-492c-b4bf-383c3dbf74b8",
        "colab": {
          "base_uri": "https://localhost:8080/"
        }
      },
      "execution_count": 8,
      "outputs": [
        {
          "output_type": "stream",
          "name": "stdout",
          "text": [
            "The number of observations in the dataset is: 227\n"
          ]
        }
      ]
    },
    {
      "cell_type": "markdown",
      "source": [
        "### Show me the number of columns, names of all columns, and how the dataset is indexed."
      ],
      "metadata": {
        "id": "Sqm_QHmKLSNJ"
      }
    },
    {
      "source": [
        "# Get the number of columns\n",
        "num_cols = countries.shape[1]\n",
        "print(f\"Number of columns: {num_cols}\")\n",
        "\n",
        "# Get the names of all columns\n",
        "col_names = countries.columns.tolist()\n",
        "print(f\"Column names: {col_names}\")\n",
        "\n",
        "# Get information about the index\n",
        "index_info = countries.index\n",
        "print(f\"Index information: {index_info}\")"
      ],
      "cell_type": "code",
      "metadata": {
        "id": "MJUemyX5IHgm",
        "outputId": "92349652-9b3c-4ea4-c284-f729e034d7b9",
        "colab": {
          "base_uri": "https://localhost:8080/"
        }
      },
      "execution_count": 9,
      "outputs": [
        {
          "output_type": "stream",
          "name": "stdout",
          "text": [
            "Number of columns: 12\n",
            "Column names: ['Country', 'Region', 'Population', 'Area (sq. mi.)', 'Infant mortality (per 1000 births)', 'GDP ($ per capita)', 'Literacy (%)', 'Crops (%)', 'Climate', 'Birthrate', 'Deathrate', 'Agriculture']\n",
            "Index information: RangeIndex(start=0, stop=227, step=1)\n"
          ]
        }
      ]
    },
    {
      "cell_type": "markdown",
      "source": [
        "#### How many continents are there?\n",
        "#### how many unique regions are there? What are their names?\n",
        "#### What is the infant mortality by region?\n",
        "#### Which region has the highest GDP?\n",
        "#### What is the most populated region in total and on average?\n",
        "#### Average population by region?\n",
        "#### What is the average GDP per capita for countries with a literacy rate above 90%\n",
        "#### What is the average infant mortality for countries with a literacy rate below 60%\n",
        "#### What is the area covered by region?\n",
        "#### What is the birth rate for countries above the median GDP per capita and a literacy above 85%?\n",
        "#### What is the total land mass covered by area by the 5 most populated countries?\n",
        "#### What is the least crop yielding region in the world?"
      ],
      "metadata": {
        "id": "xxEmBmh2Xw6m"
      }
    },
    {
      "cell_type": "code",
      "source": [
        "#How many continents are there?\n"
      ],
      "metadata": {
        "id": "4hZ1g0UDYDJc"
      },
      "execution_count": 11,
      "outputs": []
    },
    {
      "source": [
        "#How many unique regions are there? What are their names?\n",
        "# Get the unique regions and their count\n",
        "unique_regions = countries['Region'].unique()\n",
        "num_unique_regions = len(unique_regions)\n",
        "\n",
        "# Print the results\n",
        "print(f\"Number of unique regions: {num_unique_regions}\")\n",
        "print(f\"Unique regions: {unique_regions}\")"
      ],
      "cell_type": "code",
      "metadata": {
        "id": "dG4KNaBAJcIB",
        "outputId": "b8c65855-f465-4495-8cb8-fa59c225a065",
        "colab": {
          "base_uri": "https://localhost:8080/"
        }
      },
      "execution_count": 15,
      "outputs": [
        {
          "output_type": "stream",
          "name": "stdout",
          "text": [
            "Number of unique regions: 11\n",
            "Unique regions: ['ASIA (EX. NEAR EAST)         ' 'EASTERN EUROPE                     '\n",
            " 'NORTHERN AFRICA                    '\n",
            " 'OCEANIA                            '\n",
            " 'WESTERN EUROPE                     '\n",
            " 'SUB-SAHARAN AFRICA                 ' 'LATIN AMER. & CARIB    '\n",
            " 'C.W. OF IND. STATES ' 'NEAR EAST                          '\n",
            " 'NORTHERN AMERICA                   '\n",
            " 'BALTICS                            ']\n"
          ]
        }
      ]
    },
    {
      "cell_type": "code",
      "source": [
        "#What is the infant mortality by region?\n"
      ],
      "metadata": {
        "id": "mAeTCrdoLwe6"
      },
      "execution_count": null,
      "outputs": []
    },
    {
      "cell_type": "code",
      "source": [
        "#Which region has the highest GDP?\n"
      ],
      "metadata": {
        "id": "9Fy8OPYNMP3D"
      },
      "execution_count": null,
      "outputs": []
    },
    {
      "cell_type": "code",
      "source": [
        "#What is the most populated region in total and on average?"
      ],
      "metadata": {
        "id": "-hX2IKN5OsWE"
      },
      "execution_count": null,
      "outputs": []
    },
    {
      "cell_type": "code",
      "source": [
        "#Average population by region?"
      ],
      "metadata": {
        "id": "zNZCN3axKLN7"
      },
      "execution_count": null,
      "outputs": []
    },
    {
      "cell_type": "code",
      "source": [
        "#What is the average GDP per capita for countries with a literacy rate above 90%"
      ],
      "metadata": {
        "id": "2h39QnH6KOkV"
      },
      "execution_count": null,
      "outputs": []
    },
    {
      "cell_type": "code",
      "source": [
        "#What is the average infant mortality for countries with a literacy rate below 60%"
      ],
      "metadata": {
        "id": "R_lBLzM0KOZJ"
      },
      "execution_count": null,
      "outputs": []
    },
    {
      "cell_type": "code",
      "source": [],
      "metadata": {
        "id": "vh0UFAL-KOQe"
      },
      "execution_count": null,
      "outputs": []
    }
  ],
  "metadata": {
    "kernelspec": {
      "display_name": "Python 3",
      "language": "python",
      "name": "python3"
    },
    "language_info": {
      "codemirror_mode": {
        "name": "ipython",
        "version": 3
      },
      "file_extension": ".py",
      "mimetype": "text/x-python",
      "name": "python",
      "nbconvert_exporter": "python",
      "pygments_lexer": "ipython3",
      "version": "3.7.3"
    },
    "toc": {
      "base_numbering": 1,
      "nav_menu": {},
      "number_sections": true,
      "sideBar": true,
      "skip_h1_title": false,
      "title_cell": "Table of Contents",
      "title_sidebar": "Contents",
      "toc_cell": false,
      "toc_position": {},
      "toc_section_display": true,
      "toc_window_display": false
    },
    "colab": {
      "provenance": [],
      "include_colab_link": true
    }
  },
  "nbformat": 4,
  "nbformat_minor": 0
}